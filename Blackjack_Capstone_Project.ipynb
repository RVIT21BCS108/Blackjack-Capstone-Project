{
  "nbformat": 4,
  "nbformat_minor": 0,
  "metadata": {
    "colab": {
      "provenance": [],
      "authorship_tag": "ABX9TyM1SaBHO4oFq/wjZAcWpKKS",
      "include_colab_link": true
    },
    "kernelspec": {
      "name": "python3",
      "display_name": "Python 3"
    },
    "language_info": {
      "name": "python"
    }
  },
  "cells": [
    {
      "cell_type": "markdown",
      "metadata": {
        "id": "view-in-github",
        "colab_type": "text"
      },
      "source": [
        "<a href=\"https://colab.research.google.com/github/RVIT21BCS108/Blackjack-Capstone-Project/blob/main/Blackjack_Capstone_Project.ipynb\" target=\"_parent\"><img src=\"https://colab.research.google.com/assets/colab-badge.svg\" alt=\"Open In Colab\"/></a>"
      ]
    },
    {
      "cell_type": "code",
      "execution_count": null,
      "metadata": {
        "colab": {
          "base_uri": "https://localhost:8080/"
        },
        "id": "ziMDS4gYrJeP",
        "outputId": "c3e2cc84-4139-4435-fba9-258822c806aa"
      },
      "outputs": [
        {
          "output_type": "stream",
          "name": "stdout",
          "text": [
            "Welcome to Blackjack\n",
            "Your cards: [10, 10], current score: 20\n",
            "Computer's first card: 11\n",
            "Your final hand: [10, 10], final score: 20\n",
            "Computer's final hand: [11, 10], final score: 0\n",
            "Lose, opponent has Blackjack 😱\n"
          ]
        }
      ],
      "source": [
        "import random\n",
        "\n",
        "def deal_card():\n",
        "    \"\"\"Returns a random card from the deck.\"\"\"\n",
        "    cards = [2, 3, 4, 5, 6, 7, 8, 9, 10, 10, 10, 10, 11]\n",
        "    return random.choice(cards)\n",
        "\n",
        "def calculate_score(cards):\n",
        "    \"\"\"Calculates the score of a hand of cards.\"\"\"\n",
        "    if sum(cards) == 21 and len(cards) == 2:\n",
        "        return 0  # Blackjack\n",
        "    if 11 in cards and sum(cards) > 21:\n",
        "        cards.remove(11)\n",
        "        cards.append(1)\n",
        "    return sum(cards)\n",
        "\n",
        "def compare(user_score, computer_score):\n",
        "    \"\"\"Compares the user's and computer's scores and returns the result.\"\"\"\n",
        "    if user_score > 21 and computer_score > 21:\n",
        "        return \"You went over. You lose 😤\"\n",
        "    if user_score == computer_score:\n",
        "        return \"Draw 🙃\"\n",
        "    elif computer_score == 0:\n",
        "        return \"Lose, opponent has Blackjack 😱\"\n",
        "    elif user_score == 0:\n",
        "        return \"Win with a Blackjack 😎\"\n",
        "    elif user_score > 21:\n",
        "        return \"You went over. You lose 😭\"\n",
        "    elif computer_score > 21:\n",
        "        return \"Opponent went over. You win 😁\"\n",
        "    elif user_score > computer_score:\n",
        "        return \"You win 😃\"\n",
        "    else:\n",
        "        return \"You lose 😤\"\n",
        "\n",
        "def play_game():\n",
        "    print(\"Welcome to Blackjack\")\n",
        "\n",
        "    user_cards = [deal_card(), deal_card()]\n",
        "    computer_cards = [deal_card(), deal_card()]\n",
        "\n",
        "    game_over = False\n",
        "\n",
        "    while not game_over:\n",
        "        user_score = calculate_score(user_cards)\n",
        "        computer_score = calculate_score(computer_cards)\n",
        "        print(f\"Your cards: {user_cards}, current score: {user_score}\")\n",
        "        print(f\"Computer's first card: {computer_cards[0]}\")\n",
        "\n",
        "        if user_score == 0 or computer_score == 0 or user_score > 21:\n",
        "            game_over = True\n",
        "        else:\n",
        "            user_should_deal = input(\"Type 'y' to get another card, type 'n' to pass: \")\n",
        "            if user_should_deal == 'y':\n",
        "                user_cards.append(deal_card())\n",
        "            else:\n",
        "                game_over = True\n",
        "\n",
        "    while computer_score != 0 and computer_score < 17:\n",
        "        computer_cards.append(deal_card())\n",
        "        computer_score = calculate_score(computer_cards)\n",
        "\n",
        "    print(f\"Your final hand: {user_cards}, final score: {user_score}\")\n",
        "    print(f\"Computer's final hand: {computer_cards}, final score: {computer_score}\")\n",
        "    print(compare(user_score, computer_score))\n",
        "\n",
        "# Run the game\n",
        "play_game()\n"
      ]
    }
  ]
}